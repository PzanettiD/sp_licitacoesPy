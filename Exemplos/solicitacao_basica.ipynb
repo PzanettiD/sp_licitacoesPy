{
 "cells": [
  {
   "cell_type": "markdown",
   "metadata": {},
   "source": [
    "# Importando bibliotecas\n",
    "\n",
    "+ **pandas** (OPCIONAL) &nbsp;&nbsp;==> biblioteca de análise de dados\n",
    "+ **locale** (OPCIONAL) &nbsp;&nbsp;==> biblioteca que permite a conversão dos valores para o real brasileiro.\n",
    "+ **sp_licitacoesPy**&nbsp;&nbsp;==> wrapper da API de licitações da prefeitura de São Paulo"
   ]
  },
  {
   "cell_type": "code",
   "execution_count": 1,
   "metadata": {},
   "outputs": [],
   "source": [
    "import pandas as pd\n",
    "import locale\n",
    "from sp_licitacoesPy import licitacoes"
   ]
  },
  {
   "cell_type": "markdown",
   "metadata": {},
   "source": [
    "### Explicitando o locale para pt-br, e configurando o **token**.\n",
    "\n",
    "(Nesse caso como o token está ocultado, mas é só inserir no espaço onde aparece '------')"
   ]
  },
  {
   "cell_type": "code",
   "execution_count": 2,
   "metadata": {},
   "outputs": [],
   "source": [
    "locale.setlocale(locale.LC_MONETARY, 'pt_BR.utf-8')\n",
    "token = '-----------'"
   ]
  },
  {
   "cell_type": "markdown",
   "metadata": {},
   "source": [
    "### Fazendo a solicitação para API\n",
    "Obtendo o retorno em forma de uma lista de dicionários, observe o primeiro item desta lista."
   ]
  },
  {
   "cell_type": "code",
   "execution_count": 3,
   "metadata": {},
   "outputs": [
    {
     "data": {
      "text/plain": [
       "{'Retranca': 'EKAAADM',\n",
       " 'Número Processo': '201000469120',\n",
       " 'Data Assinatura Extrato': '01/12/2010',\n",
       " 'Tipo Validade Extrato': 'Meses',\n",
       " 'Número Contrato': '20/2010/sehab',\n",
       " 'Órgão': 'HABITAÇÃO',\n",
       " 'Data Publicação Extrato': '22/10/2011',\n",
       " 'Objeto': 'EXECUÇÃO DE OBRAS DO PROGRAMA DE URBANIZAÇÃO DE FAVELAS – LOTE 09, NO ÂMBITO DA COORDENADORIA DE HABITAÇÃO DA SEHAB, INTEGRADA PELA SUPERINTENDENCIA DE HABITAÇÃO POPULAR – HABI, PELO PROGRAMA MANANCIAIS E PELO DEPARTAMENTO DE REGULARIZAÇÃO DO PARCELAMENTO DO SOLO - RESOLO',\n",
       " 'Valor Contrato': 76456976.71,\n",
       " 'Modalidade': 'CONCORRÊNCIA',\n",
       " 'Validade Extrato': 18,\n",
       " '@timestamp': '2010-12-01T00:00:00.000-02:00',\n",
       " 'Fornecedor': 'CONSÓRCIO BLOKOS-KALLAS',\n",
       " 'Evento': 'EXTRATO DE ADITAMENTO',\n",
       " 'Número Licitação': '09/2010',\n",
       " 'Fornecedor Tipo': 'PJ',\n",
       " 'Fornecedor Documento': '30735773000187'}"
      ]
     },
     "execution_count": 3,
     "metadata": {},
     "output_type": "execute_result"
    }
   ],
   "source": [
    "s_dict = licitacoes.obter_dados(token, ano = 2010, quantidade = 5, offset = 10)\n",
    "s_dict[0]"
   ]
  },
  {
   "cell_type": "markdown",
   "metadata": {},
   "source": [
    "### Fazendo um DataFrame (\"tabela\") a partir da lista de dicionários.\n",
    "Convertendo os valores de tipo float em uma string formatada através do **locale**, para ficar mais fácil na visualização"
   ]
  },
  {
   "cell_type": "code",
   "execution_count": 4,
   "metadata": {},
   "outputs": [],
   "source": [
    "s_df = pd.DataFrame(s_dict)\n",
    "s_df['Valor Contrato'] = s_df['Valor Contrato'].apply(lambda x: locale.currency(x, grouping = True))"
   ]
  },
  {
   "cell_type": "markdown",
   "metadata": {},
   "source": [
    "### Exibindo algumas colunas da tabela"
   ]
  },
  {
   "cell_type": "code",
   "execution_count": 5,
   "metadata": {},
   "outputs": [
    {
     "data": {
      "text/html": [
       "<div>\n",
       "<style scoped>\n",
       "    .dataframe tbody tr th:only-of-type {\n",
       "        vertical-align: middle;\n",
       "    }\n",
       "\n",
       "    .dataframe tbody tr th {\n",
       "        vertical-align: top;\n",
       "    }\n",
       "\n",
       "    .dataframe thead th {\n",
       "        text-align: right;\n",
       "    }\n",
       "</style>\n",
       "<table border=\"1\" class=\"dataframe\">\n",
       "  <thead>\n",
       "    <tr style=\"text-align: right;\">\n",
       "      <th></th>\n",
       "      <th>Data Assinatura Extrato</th>\n",
       "      <th>Fornecedor</th>\n",
       "      <th>Modalidade</th>\n",
       "      <th>Objeto</th>\n",
       "      <th>Valor Contrato</th>\n",
       "      <th>Órgão</th>\n",
       "    </tr>\n",
       "  </thead>\n",
       "  <tbody>\n",
       "    <tr>\n",
       "      <th>0</th>\n",
       "      <td>01/12/2010</td>\n",
       "      <td>CONSÓRCIO BLOKOS-KALLAS</td>\n",
       "      <td>CONCORRÊNCIA</td>\n",
       "      <td>EXECUÇÃO DE OBRAS DO PROGRAMA DE URBANIZAÇÃO D...</td>\n",
       "      <td>R$ 76.456.976,71</td>\n",
       "      <td>HABITAÇÃO</td>\n",
       "    </tr>\n",
       "    <tr>\n",
       "      <th>1</th>\n",
       "      <td>27/08/2010</td>\n",
       "      <td>CONSÓRCIO PAULITEC/CIL</td>\n",
       "      <td>CONCORRÊNCIA</td>\n",
       "      <td>Contratação de empresa para execução de demoli...</td>\n",
       "      <td>R$ 36.847.967,00</td>\n",
       "      <td>INFRA-ESTRUTURA URBANA E OBRAS</td>\n",
       "    </tr>\n",
       "    <tr>\n",
       "      <th>2</th>\n",
       "      <td>30/08/2010</td>\n",
       "      <td>DB CONSTRUÇÕES LTDA</td>\n",
       "      <td>CONCORRÊNCIA</td>\n",
       "      <td>Execução de serviços e obras para a construção...</td>\n",
       "      <td>R$ 5.534.628,22</td>\n",
       "      <td>INFRA-ESTRUTURA URBANA E OBRAS</td>\n",
       "    </tr>\n",
       "    <tr>\n",
       "      <th>3</th>\n",
       "      <td>07/10/2010</td>\n",
       "      <td>OXFORT CONSTRUÇÕES S/A</td>\n",
       "      <td>CONCORRÊNCIA</td>\n",
       "      <td>Execução das obras e serviços de drenagem, pav...</td>\n",
       "      <td>R$ 5.396.856,17</td>\n",
       "      <td>INFRA-ESTRUTURA URBANA E OBRAS</td>\n",
       "    </tr>\n",
       "    <tr>\n",
       "      <th>4</th>\n",
       "      <td>07/07/2010</td>\n",
       "      <td>DB CONSTRUÇÕES LTDA</td>\n",
       "      <td>CONCORRÊNCIA</td>\n",
       "      <td>Execução de serviços e obras para construção d...</td>\n",
       "      <td>R$ 1.418.807,73</td>\n",
       "      <td>INFRA-ESTRUTURA URBANA E OBRAS</td>\n",
       "    </tr>\n",
       "  </tbody>\n",
       "</table>\n",
       "</div>"
      ],
      "text/plain": [
       "  Data Assinatura Extrato               Fornecedor    Modalidade  \\\n",
       "0              01/12/2010  CONSÓRCIO BLOKOS-KALLAS  CONCORRÊNCIA   \n",
       "1              27/08/2010   CONSÓRCIO PAULITEC/CIL  CONCORRÊNCIA   \n",
       "2              30/08/2010      DB CONSTRUÇÕES LTDA  CONCORRÊNCIA   \n",
       "3              07/10/2010   OXFORT CONSTRUÇÕES S/A  CONCORRÊNCIA   \n",
       "4              07/07/2010      DB CONSTRUÇÕES LTDA  CONCORRÊNCIA   \n",
       "\n",
       "                                              Objeto    Valor Contrato  \\\n",
       "0  EXECUÇÃO DE OBRAS DO PROGRAMA DE URBANIZAÇÃO D...  R$ 76.456.976,71   \n",
       "1  Contratação de empresa para execução de demoli...  R$ 36.847.967,00   \n",
       "2  Execução de serviços e obras para a construção...   R$ 5.534.628,22   \n",
       "3  Execução das obras e serviços de drenagem, pav...   R$ 5.396.856,17   \n",
       "4  Execução de serviços e obras para construção d...   R$ 1.418.807,73   \n",
       "\n",
       "                            Órgão  \n",
       "0                       HABITAÇÃO  \n",
       "1  INFRA-ESTRUTURA URBANA E OBRAS  \n",
       "2  INFRA-ESTRUTURA URBANA E OBRAS  \n",
       "3  INFRA-ESTRUTURA URBANA E OBRAS  \n",
       "4  INFRA-ESTRUTURA URBANA E OBRAS  "
      ]
     },
     "execution_count": 5,
     "metadata": {},
     "output_type": "execute_result"
    }
   ],
   "source": [
    "s_df[['Data Assinatura Extrato', 'Fornecedor', 'Modalidade', 'Objeto', 'Valor Contrato', 'Órgão']]"
   ]
  }
 ],
 "metadata": {
  "kernelspec": {
   "display_name": "Python 3",
   "language": "python",
   "name": "python3"
  },
  "language_info": {
   "codemirror_mode": {
    "name": "ipython",
    "version": 3
   },
   "file_extension": ".py",
   "mimetype": "text/x-python",
   "name": "python",
   "nbconvert_exporter": "python",
   "pygments_lexer": "ipython3",
   "version": "3.6.9"
  }
 },
 "nbformat": 4,
 "nbformat_minor": 2
}
